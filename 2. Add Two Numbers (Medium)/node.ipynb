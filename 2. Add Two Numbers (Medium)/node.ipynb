{
 "cells": [
  {
   "cell_type": "markdown",
   "metadata": {},
   "source": [
    "https://leetcode.com/problems/add-two-numbers/"
   ]
  },
  {
   "cell_type": "markdown",
   "metadata": {},
   "source": [
    "You are given two non-empty linked lists representing two non-negative integers. The digits are stored in reverse order and each of their nodes contain a single digit. Add the two numbers and return it as a linked list.\n",
    "\n",
    "You may assume the two numbers do not contain any leading zero, except the number 0 itself.\n",
    "\n",
    "Example:\n",
    "--\n",
    "\n",
    "Input: (2 -> 4 -> 3) + (5 -> 6 -> 4)\n",
    "\n",
    "Output: 7 -> 0 -> 8\n",
    "\n",
    "Explanation: 342 + 465 = 807."
   ]
  },
  {
   "cell_type": "markdown",
   "metadata": {},
   "source": [
    "Constraints\n",
    "--\n",
    "\n",
    "1. The digits are stored in **reverse** order.\n",
    "2. Return the result as a linked list. `807 = 7 -> 0 -> 8`\n",
    "\n",
    "Solution-1\n",
    "--\n",
    "\n",
    "1. Define two methods.\n",
    "    1. `decode(node: ListNode)` : Decode a `node` and return the complete number of the `node` as an interator.\n",
    "        1. declare position `i` (ones digit -> tens digit -> hundreds digit -> ...)\n",
    "        2. while `node.next is None` : $O(n)$\n",
    "            1. `yield node.val * i`\n",
    "            2. `i *= 10` Get to the next position of digit.\n",
    "            3. `node = node.next`\n",
    "    2. `encode(i: int)` : Encode a complete number and return it as a `node`.\n",
    "        1. delcare `temp` to use it later as a `node.next`.\n",
    "        2. build `node` and set its `node.next` to `temp` accordingly. : $O(n)$\n",
    "    3. Call `decode` and `encode`."
   ]
  },
  {
   "cell_type": "code",
   "execution_count": 4,
   "metadata": {},
   "outputs": [],
   "source": [
    "# Definition for singly-linked list.\n",
    "class ListNode:\n",
    "    def __init__(self, x):\n",
    "        self.val = x\n",
    "        self.next = None\n",
    "\n",
    "class Solution:\n",
    "    def addTwoNumbers(self, l1: ListNode, l2: ListNode) -> ListNode:\n",
    "        def decode(node: ListNode):\n",
    "            i = 1\n",
    "            while node is not None:\n",
    "                yield node.val * i\n",
    "                i *= 10\n",
    "                node = node.next\n",
    "        \n",
    "        def encode(i: int):\n",
    "            temp = None\n",
    "            for val in str(i):\n",
    "                node = ListNode(val)\n",
    "                node.next = temp\n",
    "                temp = node\n",
    "            return node\n",
    "        \n",
    "        i1 = sum(decode(l1))\n",
    "        i2 = sum(decode(l2))\n",
    "        \n",
    "        return encode(i1 + i2)"
   ]
  },
  {
   "cell_type": "code",
   "execution_count": null,
   "metadata": {},
   "outputs": [],
   "source": []
  }
 ],
 "metadata": {
  "kernelspec": {
   "display_name": "Python 3",
   "language": "python",
   "name": "python3"
  },
  "language_info": {
   "codemirror_mode": {
    "name": "ipython",
    "version": 3
   },
   "file_extension": ".py",
   "mimetype": "text/x-python",
   "name": "python",
   "nbconvert_exporter": "python",
   "pygments_lexer": "ipython3",
   "version": "3.7.2"
  }
 },
 "nbformat": 4,
 "nbformat_minor": 2
}
