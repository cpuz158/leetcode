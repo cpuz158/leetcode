{
 "cells": [
  {
   "cell_type": "markdown",
   "metadata": {},
   "source": [
    "https://leetcode.com/problems/longest-substring-without-repeating-characters/"
   ]
  },
  {
   "cell_type": "markdown",
   "metadata": {},
   "source": [
    "Given a string, find the length of the longest substring without repeating characters.\n",
    "\n",
    "Example 1:\n",
    "--\n",
    "\n",
    "Input: \"abcabcbb\"\n",
    "\n",
    "Output: 3 \n",
    "\n",
    "Explanation: The answer is \"abc\", with the length of 3. \n",
    "\n",
    "Example 2:\n",
    "--\n",
    "\n",
    "Input: \"bbbbb\"\n",
    "\n",
    "Output: 1\n",
    "\n",
    "Explanation: The answer is \"b\", with the length of 1.\n",
    "\n",
    "Example 3:\n",
    "--\n",
    "\n",
    "Input: \"pwwkew\"\n",
    "\n",
    "Output: 3\n",
    "\n",
    "Explanation: \n",
    "\n",
    "The answer is \"wke\", with the length of 3. \n",
    "\n",
    "Note that the answer must be a substring, \"pwke\" is a subsequence and not a substring."
   ]
  },
  {
   "cell_type": "code",
   "execution_count": 7,
   "metadata": {},
   "outputs": [],
   "source": [
    "class Solution_1:\n",
    "    def lengthOfLongestSubstring(self, s: str) -> int:\n",
    "        m = []  # memory for storing characters\n",
    "        l = 0   # the longest length ever\n",
    "        for c in s:\n",
    "            if c in m:\n",
    "                l = max(l, len(m))\n",
    "                m = m[m.index(c)+1:]\n",
    "            m.append(c)\n",
    "        return max(l, len(m))"
   ]
  },
  {
   "cell_type": "code",
   "execution_count": 8,
   "metadata": {},
   "outputs": [],
   "source": [
    "class Solution_2:\n",
    "    def lengthOfLongestSubstring(self, s: str) -> int:\n",
    "        i = j = l = 0\n",
    "        for j, c in enumerate(s):\n",
    "            if c in s[i:j]:\n",
    "                l = max(l, len(s[i:j]))\n",
    "                i += s[i:j].index(c) + 1\n",
    "        return max(l, len(s[i:j+1]))"
   ]
  },
  {
   "cell_type": "code",
   "execution_count": null,
   "metadata": {},
   "outputs": [],
   "source": []
  }
 ],
 "metadata": {
  "kernelspec": {
   "display_name": "Python 3",
   "language": "python",
   "name": "python3"
  },
  "language_info": {
   "codemirror_mode": {
    "name": "ipython",
    "version": 3
   },
   "file_extension": ".py",
   "mimetype": "text/x-python",
   "name": "python",
   "nbconvert_exporter": "python",
   "pygments_lexer": "ipython3",
   "version": "3.7.2"
  }
 },
 "nbformat": 4,
 "nbformat_minor": 2
}
